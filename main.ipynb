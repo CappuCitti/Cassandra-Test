{
 "cells": [
  {
   "cell_type": "code",
   "execution_count": null,
   "metadata": {},
   "outputs": [],
   "source": [
    "%pip install cassandra-driver pyarrow pandas"
   ]
  },
  {
   "cell_type": "code",
   "execution_count": null,
   "metadata": {},
   "outputs": [],
   "source": [
    "from cassandra.cluster import Cluster\n",
    "import pandas as pd"
   ]
  },
  {
   "cell_type": "code",
   "execution_count": null,
   "metadata": {},
   "outputs": [],
   "source": [
    "# Connessione all'istanza (Docker) di Cassandra\n",
    "cluster = Cluster(['localhost'])\n",
    "session = cluster.connect()"
   ]
  },
  {
   "cell_type": "code",
   "execution_count": null,
   "metadata": {},
   "outputs": [],
   "source": [
    "# Creazione della keyspace\n",
    "session.execute(\"\"\"\n",
    "    CREATE KEYSPACE IF NOT EXISTS learn_cassandra\n",
    "    WITH REPLICATION = {\n",
    "        'class' : 'NetworkTopologyStrategy',\n",
    "        'datacenter1' : 1\n",
    "    };\n",
    "\"\"\")"
   ]
  },
  {
   "cell_type": "code",
   "execution_count": null,
   "metadata": {},
   "outputs": [],
   "source": [
    "# Utilizzo della keyspace creata\n",
    "session.set_keyspace('learn_cassandra')"
   ]
  },
  {
   "cell_type": "code",
   "execution_count": null,
   "metadata": {},
   "outputs": [],
   "source": [
    "# Creazione della tabella\n",
    "session.execute(\"\"\"\n",
    "    CREATE TABLE IF NOT EXISTS users_by_country (\n",
    "        country text,\n",
    "        user_email text,\n",
    "        first_name text,\n",
    "        last_name text,\n",
    "        age smallint,\n",
    "        PRIMARY KEY ((country), user_email)\n",
    "    );\n",
    "\"\"\")"
   ]
  },
  {
   "cell_type": "code",
   "execution_count": null,
   "metadata": {},
   "outputs": [],
   "source": [
    "# Inserimento dei dati nella tabella\n",
    "session.execute(\"\"\"\n",
    "    INSERT INTO users_by_country (country, user_email, first_name, last_name, age)\n",
    "    VALUES ('US', 'john@email.com', 'John', 'Wick', 55);\n",
    "\"\"\")\n",
    "session.execute(\"\"\"\n",
    "    INSERT INTO users_by_country (country, user_email, first_name, last_name, age)\n",
    "    VALUES ('UK', 'peter@email.com', 'Peter', 'Clark', 65);\n",
    "\"\"\")\n",
    "session.execute(\"\"\"\n",
    "    INSERT INTO users_by_country (country, user_email, first_name, last_name, age)\n",
    "    VALUES ('UK', 'bob@email.com', 'Bob', 'Sandler', 23);\n",
    "\"\"\")\n",
    "session.execute(\"\"\"\n",
    "    INSERT INTO users_by_country (country, user_email, first_name, last_name, age)\n",
    "    VALUES ('UK', 'alice@email.com', 'Alice', 'Brown', 26);\n",
    "\"\"\")"
   ]
  },
  {
   "cell_type": "code",
   "execution_count": 36,
   "metadata": {},
   "outputs": [
    {
     "name": "stdout",
     "output_type": "stream",
     "text": [
      "  country       user_email  age first_name last_name\n",
      "0      UK  alice@email.com   26      Alice     Brown\n",
      "1      UK    bob@email.com   23        Bob   Sandler\n",
      "2      UK  peter@email.com   65      Peter     Clark\n"
     ]
    }
   ],
   "source": [
    "# Esecuzione della query e memorizzazione dei risultati nel DataFrame\n",
    "rows = session.execute(\"SELECT * FROM users_by_country WHERE country='UK';\")\n",
    "df = pd.DataFrame(list(rows))\n",
    "\n",
    "# Stampa il DataFrame\n",
    "print(df)"
   ]
  },
  {
   "cell_type": "code",
   "execution_count": null,
   "metadata": {},
   "outputs": [],
   "source": [
    "# Chiusura della connessione\n",
    "session.shutdown()\n",
    "cluster.shutdown()"
   ]
  }
 ],
 "metadata": {
  "kernelspec": {
   "display_name": "Python 3",
   "language": "python",
   "name": "python3"
  },
  "language_info": {
   "codemirror_mode": {
    "name": "ipython",
    "version": 3
   },
   "file_extension": ".py",
   "mimetype": "text/x-python",
   "name": "python",
   "nbconvert_exporter": "python",
   "pygments_lexer": "ipython3",
   "version": "3.10.12"
  }
 },
 "nbformat": 4,
 "nbformat_minor": 2
}
